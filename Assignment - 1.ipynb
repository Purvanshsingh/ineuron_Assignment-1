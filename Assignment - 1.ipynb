{
 "cells": [
  {
   "cell_type": "code",
   "execution_count": 1,
   "metadata": {},
   "outputs": [
    {
     "name": "stdout",
     "output_type": "stream",
     "text": [
      "Welocme To The World Of Machine Learning..!!\n"
     ]
    }
   ],
   "source": [
    "print(\"Welocme To The World Of Machine Learning..!!\")"
   ]
  },
  {
   "cell_type": "code",
   "execution_count": 2,
   "metadata": {
    "scrolled": true
   },
   "outputs": [
    {
     "name": "stdout",
     "output_type": "stream",
     "text": [
      "2002,2009,2016,2023,2037,2044,2051,2058,2072,2079,2086,2093,2107,2114,2121,2128,2142,2149,2156,2163,2177,2184,2191,2198,2212,2219,2226,2233,2247,2254,2261,2268,2282,2289,2296,2303,2317,2324,2331,2338,2352,2359,2366,2373,2387,2394,2401,2408,2422,2429,2436,2443,2457,2464,2471,2478,2492,2499,2506,2513,2527,2534,2541,2548,2562,2569,2576,2583,2597,2604,2611,2618,2632,2639,2646,2653,2667,2674,2681,2688,2702,2709,2716,2723,2737,2744,2751,2758,2772,2779,2786,2793,2807,2814,2821,2828,2842,2849,2856,2863,2877,2884,2891,2898,2912,2919,2926,2933,2947,2954,2961,2968,2982,2989,2996,3003,3017,3024,3031,3038,3052,3059,3066,3073,3087,3094,3101,3108,3122,3129,3136,3143,3157,3164,3171,3178,3192,3199,"
     ]
    }
   ],
   "source": [
    "''' Question 2 '''\n",
    "for i in range(2000,3200+1):\n",
    "    if i%7==0 and i%5!=0:\n",
    "        print(i,end=',')"
   ]
  },
  {
   "cell_type": "code",
   "execution_count": 3,
   "metadata": {},
   "outputs": [
    {
     "name": "stdout",
     "output_type": "stream",
     "text": [
      "Enter Your Full Name: Purvansh Singh\n",
      "Singh Purvansh\n",
      "hsnavruP hgniS\n"
     ]
    }
   ],
   "source": [
    "''' Question 3 '''\n",
    "Name,SirName=input(\"Enter Your Full Name: \").split()\n",
    "print(SirName,Name,sep=\" \")\n",
    "print(Name[::-1],SirName[::-1],sep=\" \")"
   ]
  },
  {
   "cell_type": "code",
   "execution_count": 4,
   "metadata": {},
   "outputs": [
    {
     "name": "stdout",
     "output_type": "stream",
     "text": [
      "Volume of sphere is  904.7786842338603\n"
     ]
    }
   ],
   "source": [
    "''' Question 4'''\n",
    "from math import pi\n",
    "diameter=12\n",
    "Volume=4/3*(pi*((diameter/2)**3))\n",
    "print(\"Volume of sphere is \",Volume)"
   ]
  },
  {
   "cell_type": "code",
   "execution_count": 5,
   "metadata": {},
   "outputs": [
    {
     "name": "stdout",
     "output_type": "stream",
     "text": [
      "Enter Comma-seprated numbers: 10,20,30,50\n",
      "[10, 20, 30, 50]\n"
     ]
    }
   ],
   "source": [
    "#TASK 2\n",
    "''' Question 1 '''\n",
    "CSV=list(map(int,input(\"Enter Comma-seprated numbers: \").split(',')))\n",
    "print(CSV)"
   ]
  },
  {
   "cell_type": "code",
   "execution_count": 6,
   "metadata": {},
   "outputs": [
    {
     "name": "stdout",
     "output_type": "stream",
     "text": [
      "*  \n",
      "\n",
      "* *  \n",
      "\n",
      "* * *  \n",
      "\n",
      "* * * *  \n",
      "\n",
      "* * * * *  \n",
      "\n",
      "* * * *  \n",
      "\n",
      "* * *  \n",
      "\n",
      "* *  \n",
      "\n",
      "*  \n",
      "\n"
     ]
    }
   ],
   "source": [
    "for i in range(4):\n",
    "    print('* '*(i+1),\"\\n\")\n",
    "for i in range(4,-1,-1):\n",
    "    print('* '*(i+1),\"\\n\")"
   ]
  },
  {
   "cell_type": "code",
   "execution_count": 7,
   "metadata": {},
   "outputs": [
    {
     "name": "stdout",
     "output_type": "stream",
     "text": [
      "Enter Your Word: AcadGild\n",
      "dliGdacA\n"
     ]
    }
   ],
   "source": [
    "Word=input(\"Enter Your Word: \")\n",
    "Word=Word[::-1]\n",
    "print(Word)"
   ]
  },
  {
   "cell_type": "code",
   "execution_count": 8,
   "metadata": {},
   "outputs": [
    {
     "name": "stdout",
     "output_type": "stream",
     "text": [
      "WE, THE PEOPLE OF INDIA, \n",
      "\t\thaving solemnly resolved to constitute into a \n",
      "\t\t\tSOVEREIGN, SOCIALIST, SECULAR, DEMOCRATIC REPUBLIC \n",
      "\t\t\t\tand to secure to all its citizens "
     ]
    }
   ],
   "source": [
    "s='''WE, THE PEOPLE OF INDIA, having solemnly resolved to constitute India into a SOVEREIGN, SOCIALIST, SECULAR, DEMOCRATIC REPUBLIC and to secure to all\n",
    "its citizens'''\n",
    "\n",
    "l=s.split()\n",
    "flag=0\n",
    "counter=1\n",
    "for i in l:\n",
    "    if i == i.lower() and flag== 0:\n",
    "        counter=counter+1\n",
    "        print()\n",
    "        print(\"\\t\"*counter,end=\"\")\n",
    "        flag=1\n",
    "        print(i,end=\" \")\n",
    "    elif i == i.lower() and flag== 1:\n",
    "        print(i,end=\" \")\n",
    "    elif i == i.upper():\n",
    "        if flag==1:\n",
    "            flag=0\n",
    "            counter=counter+1\n",
    "            print()\n",
    "            print(\"\\t\"*counter,end=\"\")\n",
    "        print(i,end=\" \")\n",
    "    \n",
    "    "
   ]
  },
  {
   "cell_type": "code",
   "execution_count": null,
   "metadata": {},
   "outputs": [],
   "source": []
  }
 ],
 "metadata": {
  "kernelspec": {
   "display_name": "Python 3",
   "language": "python",
   "name": "python3"
  },
  "language_info": {
   "codemirror_mode": {
    "name": "ipython",
    "version": 3
   },
   "file_extension": ".py",
   "mimetype": "text/x-python",
   "name": "python",
   "nbconvert_exporter": "python",
   "pygments_lexer": "ipython3",
   "version": "3.7.4"
  }
 },
 "nbformat": 4,
 "nbformat_minor": 2
}
